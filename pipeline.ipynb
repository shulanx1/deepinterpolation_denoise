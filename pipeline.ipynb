{
 "cells": [
  {
   "cell_type": "code",
   "execution_count": null,
   "id": "ca6ed859",
   "metadata": {},
   "outputs": [],
   "source": [
    "import sys\n",
    "import os\n",
    "from pathlib import Path\n",
    "wd = Path().cwd() # working directory\n",
    "sys.path.insert(1, wd.__str__())\n",
    "\n",
    "from main.pre_process import combine_tiff\n",
    "from main.custom_filters import *\n",
    "from main.quick_deepinterp import *\n",
    "\n",
    "from ScanImageTiffReader import ScanImageTiffReader\n",
    "import numpy as np"
   ]
  },
  {
   "cell_type": "code",
   "execution_count": 2,
   "id": "08409a71",
   "metadata": {},
   "outputs": [],
   "source": [
    "fld = 'E:\\\\Code\\\\ca_denoise\\\\demo_dataset'\n",
    "preflix = 'S1ROI1_10.5x_'"
   ]
  },
  {
   "cell_type": "code",
   "execution_count": 5,
   "id": "3e88c0f3",
   "metadata": {},
   "outputs": [
    {
     "name": "stdout",
     "output_type": "stream",
     "text": [
      "loading files\n",
      "processing\n",
      "saving files\n",
      "starting motion correction\n",
      "starting the cluster\n"
     ]
    },
    {
     "name": "stderr",
     "output_type": "stream",
     "text": [
      "INFO:root:Changing key fnames in group data from None to E:\\Code\\ca_denoise\\demo_dataset\\pre\\S1ROI1_10.5x__combined.tif\n",
      "INFO:root:Changing key decay_time in group data from 0.4 to 0.5\n",
      "INFO:root:Changing key dxy in group data from (1, 1) to (0.5, 0.5)\n",
      "INFO:root:Changing key pw_rigid in group motion from False to True\n",
      "INFO:root:Changing key max_shifts in group motion from (6, 6) to [10, 10]\n",
      "INFO:root:Changing key strides in group motion from (96, 96) to (40, 40)\n",
      "INFO:root:Changing key overlaps in group motion from (32, 32) to (5, 5)\n"
     ]
    },
    {
     "name": "stdout",
     "output_type": "stream",
     "text": [
      "motion correction for file 0\n"
     ]
    },
    {
     "name": "stderr",
     "output_type": "stream",
     "text": [
      "INFO:root:Generating template by rigid motion correction\n",
      "INFO:root:** Starting parallel motion correction **\n",
      "INFO:root:** Finished parallel motion correction **\n",
      "INFO:root:Saving file as E:\\Code\\ca_denoise\\demo_dataset\\pre\\S1ROI1_10.5x__combined_els__d1_512_d2_512_d3_1_order_F_frames_1059_.mmap\n",
      "INFO:root:** Starting parallel motion correction **\n",
      "INFO:root:** Finished parallel motion correction **\n",
      "100%|████████████████████████████████████████████████████████████████████████████████████| 1/1 [00:00<00:00,  1.21it/s]\n"
     ]
    },
    {
     "name": "stdout",
     "output_type": "stream",
     "text": [
      "creating motion corrected tiff for file 0\n"
     ]
    },
    {
     "name": "stderr",
     "output_type": "stream",
     "text": [
      "INFO:FineTuning:wrote E:\\Code\\ca_denoise\\demo_dataset\\model_folder\\2023_06_25_15_32_training_full_args.json\n",
      "INFO:FineTuning:wrote E:\\Code\\ca_denoise\\demo_dataset\\model_folder\\2023_06_25_15_32_finetuning.json\n",
      "INFO:FineTuning:wrote E:\\Code\\ca_denoise\\demo_dataset\\model_folder\\2023_06_25_15_32_generator.json\n",
      "INFO:FineTuning:wrote E:\\Code\\ca_denoise\\demo_dataset\\model_folder\\2023_06_25_15_32_test_generator.json\n"
     ]
    },
    {
     "name": "stdout",
     "output_type": "stream",
     "text": [
      "Starting fine-tuning\n"
     ]
    },
    {
     "name": "stderr",
     "output_type": "stream",
     "text": [
      "INFO:FineTuning:created objects for training\n"
     ]
    },
    {
     "name": "stdout",
     "output_type": "stream",
     "text": [
      "Epoch 1/2\n",
      "200/200 [==============================] - 264s 1s/step - loss: 0.4557 - val_loss: 0.4361\n",
      "Epoch 2/2\n",
      "200/200 [==============================] - 264s 1s/step - loss: 0.4347 - val_loss: 0.4233\n"
     ]
    },
    {
     "name": "stderr",
     "output_type": "stream",
     "text": [
      "INFO:FineTuning:fine tuning job finished - finalizing output model\n"
     ]
    },
    {
     "name": "stdout",
     "output_type": "stream",
     "text": [
      "Saved model to disk\n",
      "Fine-tuning finished\n"
     ]
    }
   ],
   "source": [
    "combine_tiff(fld, preflix, if_combine = 1)\n",
    "# from main.pre_process import caiman_mc(fld)\n",
    "# caiman_mc(fld)\n",
    "generator_param = quick_finetuning(fld)"
   ]
  },
  {
   "cell_type": "code",
   "execution_count": 3,
   "id": "043bc99e",
   "metadata": {},
   "outputs": [],
   "source": [
    "model_name = '2021_07_31_09_31_03_528689_unet_1024_search_mean_squared_error_pre_30_post_30_feat_32_power_2_depth_4_unet_True-0100-0.5733.h5'\n",
    "movie_idx = 0\n",
    "nb_frame_training = 500\n",
    "input_model_path = os.path.join(wd, \"model_folder\", model_name)\n",
    "input_movies = glob.glob(os.path.join(fld, \"mc\" , \"*.tif\")) \n",
    "input_movie_path = input_movies[0]\n",
    "generator_param = {}\n",
    "generator_param[\"name\"] = \"SingleTifGenerator\"  # Name of object (use SingleTifGenerator for tiff files)\n",
    "generator_param[\"pre_frame\"] = 30\n",
    "generator_param[\"post_frame\"] = 30\n",
    "generator_param[\"data_path\"] = input_movie_path\n",
    "generator_param[\"batch_size\"] = 1 # This is small because Colab GPUs do have very smaller memory. Increase on better cards. \n",
    "generator_param[\"start_frame\"] = 0\n",
    "generator_param[\"end_frame\"] = -1\n",
    "generator_param[\"total_samples\"] = nb_frame_training\n",
    "generator_param[\"pre_post_omission\"] = 0  # Number of frame omitted before and after the predicted frame\n",
    "m = ScanImageTiffReader(input_movie_path).data()\n",
    "n_frame = m.shape[0]\n",
    "# We are reusing the data generator for training here.\n",
    "generator_param[\"start_frame\"] = 0\n",
    "generator_param[\"end_frame\"] = -1\n",
    "generator_param[\"total_samples\"] = n_frame"
   ]
  },
  {
   "cell_type": "code",
   "execution_count": 4,
   "id": "0fa79b88",
   "metadata": {},
   "outputs": [
    {
     "name": "stdout",
     "output_type": "stream",
     "text": [
      "Preparing data for inference file 0\n",
      "Starting inference for file 0\n"
     ]
    },
    {
     "name": "stderr",
     "output_type": "stream",
     "text": [
      "INFO:root:randomize should be set to False for inference.                         Overriding the parameter\n",
      "INFO:Inference:wrote E:\\Code\\ca_denoise\\demo_dataset\\denoise\\inference_full_args.json\n",
      "INFO:Inference:wrote E:\\Code\\ca_denoise\\demo_dataset\\denoise\\2023_06_25_15_50_inference.json\n",
      "INFO:Inference:wrote E:\\Code\\ca_denoise\\demo_dataset\\denoise\\2023_06_25_15_50_generator.json\n",
      "INFO:Inference:created objects for inference\n"
     ]
    },
    {
     "name": "stdout",
     "output_type": "stream",
     "text": [
      "Inference finished for file 0\n",
      "generate tiff for file 0\n"
     ]
    },
    {
     "ename": "TypeError",
     "evalue": "stat: path should be string, bytes, os.PathLike or integer, not tuple",
     "output_type": "error",
     "traceback": [
      "\u001b[1;31m---------------------------------------------------------------------------\u001b[0m",
      "\u001b[1;31mTypeError\u001b[0m                                 Traceback (most recent call last)",
      "\u001b[1;32m~\\AppData\\Local\\Temp/ipykernel_182684/2524951340.py\u001b[0m in \u001b[0;36m<module>\u001b[1;34m\u001b[0m\n\u001b[1;32m----> 1\u001b[1;33m \u001b[0mquick_inference\u001b[0m\u001b[1;33m(\u001b[0m\u001b[0mfld\u001b[0m\u001b[1;33m,\u001b[0m \u001b[0mgenerator_param\u001b[0m\u001b[1;33m)\u001b[0m\u001b[1;33m\u001b[0m\u001b[1;33m\u001b[0m\u001b[0m\n\u001b[0m",
      "\u001b[1;32mE:\\Code\\ca_denoise\\main\\quick_deepinterp.py\u001b[0m in \u001b[0;36mquick_inference\u001b[1;34m(fld, generator_param)\u001b[0m\n\u001b[0;32m    178\u001b[0m \u001b[1;33m\u001b[0m\u001b[0m\n\u001b[0;32m    179\u001b[0m         \u001b[0mprint\u001b[0m\u001b[1;33m(\u001b[0m\u001b[1;34m\"generate tiff for file %d\"\u001b[0m \u001b[1;33m%\u001b[0m\u001b[0mk\u001b[0m\u001b[1;33m)\u001b[0m\u001b[1;33m\u001b[0m\u001b[1;33m\u001b[0m\u001b[0m\n\u001b[1;32m--> 180\u001b[1;33m         \u001b[0mh5_2_tiff\u001b[0m\u001b[1;33m(\u001b[0m\u001b[0minference_param\u001b[0m\u001b[1;33m[\u001b[0m\u001b[1;34m\"output_file\"\u001b[0m\u001b[1;33m]\u001b[0m\u001b[1;33m,\u001b[0m \u001b[0mfile\u001b[0m\u001b[1;33m,\u001b[0m \u001b[0mgenerator_param\u001b[0m\u001b[1;33m)\u001b[0m\u001b[1;33m\u001b[0m\u001b[1;33m\u001b[0m\u001b[0m\n\u001b[0m\u001b[0;32m    181\u001b[0m         \u001b[0mprint\u001b[0m\u001b[1;33m(\u001b[0m\u001b[1;34m\"tiff created for file %d\"\u001b[0m \u001b[1;33m%\u001b[0m\u001b[0mk\u001b[0m\u001b[1;33m)\u001b[0m\u001b[1;33m\u001b[0m\u001b[1;33m\u001b[0m\u001b[0m\n\u001b[0;32m    182\u001b[0m \u001b[1;33m\u001b[0m\u001b[0m\n",
      "\u001b[1;32mE:\\Code\\ca_denoise\\main\\quick_deepinterp.py\u001b[0m in \u001b[0;36mh5_2_tiff\u001b[1;34m(out_file, orig_file, generator_param)\u001b[0m\n\u001b[0;32m    203\u001b[0m     \u001b[0mbasename\u001b[0m \u001b[1;33m=\u001b[0m \u001b[0mos\u001b[0m\u001b[1;33m.\u001b[0m\u001b[0mpath\u001b[0m\u001b[1;33m.\u001b[0m\u001b[0msplitext\u001b[0m\u001b[1;33m(\u001b[0m\u001b[0mos\u001b[0m\u001b[1;33m.\u001b[0m\u001b[0mpath\u001b[0m\u001b[1;33m.\u001b[0m\u001b[0mbasename\u001b[0m\u001b[1;33m(\u001b[0m\u001b[0mout_file\u001b[0m\u001b[1;33m)\u001b[0m\u001b[1;33m)\u001b[0m\u001b[1;33m[\u001b[0m\u001b[1;36m0\u001b[0m\u001b[1;33m]\u001b[0m\u001b[1;33m\u001b[0m\u001b[1;33m\u001b[0m\u001b[0m\n\u001b[0;32m    204\u001b[0m     \u001b[0mfinal_dir\u001b[0m \u001b[1;33m=\u001b[0m \u001b[0mos\u001b[0m\u001b[1;33m.\u001b[0m\u001b[0mpath\u001b[0m\u001b[1;33m.\u001b[0m\u001b[0mdirname\u001b[0m\u001b[1;33m(\u001b[0m\u001b[0mos\u001b[0m\u001b[1;33m.\u001b[0m\u001b[0mpath\u001b[0m\u001b[1;33m.\u001b[0m\u001b[0mdirname\u001b[0m\u001b[1;33m(\u001b[0m\u001b[0mbasename\u001b[0m\u001b[1;33m)\u001b[0m\u001b[1;33m)\u001b[0m\u001b[1;33m,\u001b[0m \u001b[1;34m\"final\"\u001b[0m\u001b[1;33m\u001b[0m\u001b[1;33m\u001b[0m\u001b[0m\n\u001b[1;32m--> 205\u001b[1;33m     \u001b[1;32mif\u001b[0m \u001b[1;32mnot\u001b[0m \u001b[0mos\u001b[0m\u001b[1;33m.\u001b[0m\u001b[0mpath\u001b[0m\u001b[1;33m.\u001b[0m\u001b[0mexists\u001b[0m\u001b[1;33m(\u001b[0m\u001b[0mfinal_dir\u001b[0m\u001b[1;33m)\u001b[0m\u001b[1;33m:\u001b[0m\u001b[1;33m\u001b[0m\u001b[1;33m\u001b[0m\u001b[0m\n\u001b[0m\u001b[0;32m    206\u001b[0m         \u001b[0mos\u001b[0m\u001b[1;33m.\u001b[0m\u001b[0mmakedirs\u001b[0m\u001b[1;33m(\u001b[0m\u001b[0mfinal_dir\u001b[0m\u001b[1;33m)\u001b[0m\u001b[1;33m\u001b[0m\u001b[1;33m\u001b[0m\u001b[0m\n\u001b[0;32m    207\u001b[0m     \u001b[0mout_file\u001b[0m \u001b[1;33m=\u001b[0m \u001b[0mos\u001b[0m\u001b[1;33m.\u001b[0m\u001b[0mpath\u001b[0m\u001b[1;33m.\u001b[0m\u001b[0mjoin\u001b[0m\u001b[1;33m(\u001b[0m\u001b[0mfinal_dir\u001b[0m\u001b[1;33m,\u001b[0m \u001b[0mbasename\u001b[0m\u001b[1;33m)\u001b[0m\u001b[1;33m\u001b[0m\u001b[1;33m\u001b[0m\u001b[0m\n",
      "\u001b[1;32mC:\\ProgramData\\Anaconda3\\envs\\deepinterpolation\\lib\\genericpath.py\u001b[0m in \u001b[0;36mexists\u001b[1;34m(path)\u001b[0m\n\u001b[0;32m     17\u001b[0m     \u001b[1;34m\"\"\"Test whether a path exists.  Returns False for broken symbolic links\"\"\"\u001b[0m\u001b[1;33m\u001b[0m\u001b[1;33m\u001b[0m\u001b[0m\n\u001b[0;32m     18\u001b[0m     \u001b[1;32mtry\u001b[0m\u001b[1;33m:\u001b[0m\u001b[1;33m\u001b[0m\u001b[1;33m\u001b[0m\u001b[0m\n\u001b[1;32m---> 19\u001b[1;33m         \u001b[0mos\u001b[0m\u001b[1;33m.\u001b[0m\u001b[0mstat\u001b[0m\u001b[1;33m(\u001b[0m\u001b[0mpath\u001b[0m\u001b[1;33m)\u001b[0m\u001b[1;33m\u001b[0m\u001b[1;33m\u001b[0m\u001b[0m\n\u001b[0m\u001b[0;32m     20\u001b[0m     \u001b[1;32mexcept\u001b[0m \u001b[0mOSError\u001b[0m\u001b[1;33m:\u001b[0m\u001b[1;33m\u001b[0m\u001b[1;33m\u001b[0m\u001b[0m\n\u001b[0;32m     21\u001b[0m         \u001b[1;32mreturn\u001b[0m \u001b[1;32mFalse\u001b[0m\u001b[1;33m\u001b[0m\u001b[1;33m\u001b[0m\u001b[0m\n",
      "\u001b[1;31mTypeError\u001b[0m: stat: path should be string, bytes, os.PathLike or integer, not tuple"
     ]
    }
   ],
   "source": [
    "quick_inference(fld, generator_param)"
   ]
  },
  {
   "cell_type": "code",
   "execution_count": 14,
   "id": "ad09f9ef",
   "metadata": {},
   "outputs": [],
   "source": [
    "def h5_2_tiff(out_file, orig_file, generator_param):\n",
    "    import numpy as np\n",
    "    import tifffile\n",
    "#    import pytiff\n",
    "    import cv2\n",
    "    \n",
    "    data = np.asarray(h5py.File(out_file,'r')['data'])\n",
    "    data = cv2.normalize(data, None, 0, 255, cv2.NORM_MINMAX).astype(np.uint8)\n",
    "    \n",
    "    # orig_data = []\n",
    "    # with pytiff.Tiff(orig_file, 'r') as handle:\n",
    "    #     for page in handle.pages:\n",
    "    #         orig_data.append(np.asarray(page[:]))\n",
    "    # orig_data = np.asarray(orig_data)\n",
    "    from ScanImageTiffReader import ScanImageTiffReader\n",
    "    orig_data = ScanImageTiffReader(orig_file).data()\n",
    "    orig_data = cv2.normalize(orig_data, None, 0, 255, cv2.NORM_MINMAX).astype(np.uint8)\n",
    "    \n",
    "    data[:generator_param[\"pre_frame\"],:] = orig_data[:generator_param[\"pre_frame\"],:]\n",
    "    data[-generator_param[\"post_frame\"]:,:] = orig_data[-generator_param[\"post_frame\"]:,:]\n",
    "    basename = os.path.splitext(os.path.basename(out_file))[0]\n",
    "    final_dir = os.path.join(os.path.dirname(os.path.dirname(out_file)), \"final\")\n",
    "    if not os.path.exists(final_dir):\n",
    "        os.makedirs(final_dir)\n",
    "    tifffile.imsave(os.path.join(final_dir, basename) + '.tif',data)"
   ]
  },
  {
   "cell_type": "code",
   "execution_count": 15,
   "id": "e98b7e1b",
   "metadata": {},
   "outputs": [],
   "source": [
    "output_dir = os.path.join(fld, \"denoise\")\n",
    "file = glob.glob(os.path.join(fld, \"mc\" , \"*.tif\"))[0]\n",
    "base_file = os.path.splitext(os.path.basename(file))[0]\n",
    "outfile = os.path.join(output_dir, base_file+'_denoise.h5')\n",
    "\n",
    "h5_2_tiff(outfile, file, generator_param)"
   ]
  },
  {
   "cell_type": "code",
   "execution_count": 13,
   "id": "ba5fd094",
   "metadata": {},
   "outputs": [
    {
     "data": {
      "text/plain": [
       "'E:\\\\Code\\\\ca_denoise\\\\demo_dataset\\\\final\\\\S1ROI1_10.5x__combined_corrected_denoise.tif'"
      ]
     },
     "execution_count": 13,
     "metadata": {},
     "output_type": "execute_result"
    }
   ],
   "source": [
    "final_dir = os.path.join(os.path.dirname(os.path.dirname(outfile)), \"final\")\n",
    "basename = os.path.splitext(os.path.basename(outfile))[0]\n",
    "\n",
    "os.path.join(final_dir, basename) + '.tif'"
   ]
  },
  {
   "cell_type": "code",
   "execution_count": null,
   "id": "204032b5",
   "metadata": {},
   "outputs": [],
   "source": []
  }
 ],
 "metadata": {
  "kernelspec": {
   "display_name": "Python 3 (ipykernel)",
   "language": "python",
   "name": "python3"
  },
  "language_info": {
   "codemirror_mode": {
    "name": "ipython",
    "version": 3
   },
   "file_extension": ".py",
   "mimetype": "text/x-python",
   "name": "python",
   "nbconvert_exporter": "python",
   "pygments_lexer": "ipython3",
   "version": "3.7.11"
  }
 },
 "nbformat": 4,
 "nbformat_minor": 5
}
